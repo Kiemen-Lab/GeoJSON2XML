{
 "cells": [
  {
   "cell_type": "code",
   "id": "initial_id",
   "metadata": {
    "collapsed": true,
    "ExecuteTime": {
     "end_time": "2025-05-05T19:28:39.924378Z",
     "start_time": "2025-05-05T19:28:39.904368Z"
    }
   },
   "source": "from base import *",
   "outputs": [],
   "execution_count": 1
  },
  {
   "metadata": {
    "ExecuteTime": {
     "end_time": "2025-05-05T19:28:39.931013Z",
     "start_time": "2025-05-05T19:28:39.924378Z"
    }
   },
   "cell_type": "code",
   "source": [
    "### Inputs\n",
    "folder_path = r'path to your folder' # folder containing GeoJSON filesgit clean -Xf\n",
    "microns_per_pixel = \"image_Resolution\" # microns per pixel"
   ],
   "id": "87f3d3f4a4fe7c43",
   "outputs": [],
   "execution_count": 2
  },
  {
   "metadata": {
    "ExecuteTime": {
     "end_time": "2025-05-05T19:28:50.516890Z",
     "start_time": "2025-05-05T19:28:40.115513Z"
    }
   },
   "cell_type": "code",
   "source": [
    "### Make XML files\n",
    "GeoJSON2XML(folder_path, microns_per_pixel)"
   ],
   "id": "4137eda080c6b25a",
   "outputs": [
    {
     "name": "stdout",
     "output_type": "stream",
     "text": [
      "Found 6 unique labels across all files\n",
      "✅ XML saved for: 84 - 2024-02-26 10.33.40.geojson\n",
      "✅ XML saved for: TVNTC 1-2 2.geojson\n"
     ]
    }
   ],
   "execution_count": 3
  }
 ],
 "metadata": {
  "kernelspec": {
   "display_name": "Python 3",
   "language": "python",
   "name": "python3"
  },
  "language_info": {
   "codemirror_mode": {
    "name": "ipython",
    "version": 2
   },
   "file_extension": ".py",
   "mimetype": "text/x-python",
   "name": "python",
   "nbconvert_exporter": "python",
   "pygments_lexer": "ipython2",
   "version": "2.7.6"
  }
 },
 "nbformat": 4,
 "nbformat_minor": 5
}
